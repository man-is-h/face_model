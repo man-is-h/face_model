{
  "nbformat": 4,
  "nbformat_minor": 0,
  "metadata": {
    "colab": {
      "name": "face_recognition.ipynb",
      "provenance": [],
      "collapsed_sections": [],
      "authorship_tag": "ABX9TyM3zBvnARvbO96fnEiIxvyw",
      "include_colab_link": true
    },
    "kernelspec": {
      "name": "python3",
      "display_name": "Python 3"
    },
    "accelerator": "GPU"
  },
  "cells": [
    {
      "cell_type": "markdown",
      "metadata": {
        "id": "view-in-github",
        "colab_type": "text"
      },
      "source": [
        "<a href=\"https://colab.research.google.com/github/man-is-h/face_model/blob/master/face_recognition.ipynb\" target=\"_parent\"><img src=\"https://colab.research.google.com/assets/colab-badge.svg\" alt=\"Open In Colab\"/></a>"
      ]
    },
    {
      "cell_type": "code",
      "metadata": {
        "id": "U78qbO1JSjO0",
        "colab_type": "code",
        "colab": {}
      },
      "source": [
        "import dlib\n",
        "import scipy.misc\n",
        "import imageio\n",
        "import numpy as np\n",
        "import os"
      ],
      "execution_count": null,
      "outputs": []
    },
    {
      "cell_type": "code",
      "metadata": {
        "id": "zsKn_1sRSspb",
        "colab_type": "code",
        "colab": {}
      },
      "source": [
        "#get face detector for dlib\n",
        "face_dec = dlib.get_frontal_face_detector()"
      ],
      "execution_count": null,
      "outputs": []
    },
    {
      "cell_type": "code",
      "metadata": {
        "id": "-7RirxOfW2Du",
        "colab_type": "code",
        "colab": {
          "base_uri": "https://localhost:8080/",
          "height": 121
        },
        "outputId": "94ba20d0-214f-4978-b4c5-bb97200f8a07"
      },
      "source": [
        "from google.colab import drive\n",
        "drive.mount('/content/drive')"
      ],
      "execution_count": null,
      "outputs": [
        {
          "output_type": "stream",
          "text": [
            "Go to this URL in a browser: https://accounts.google.com/o/oauth2/auth?client_id=947318989803-6bn6qk8qdgf4n4g3pfee6491hc0brc4i.apps.googleusercontent.com&redirect_uri=urn%3aietf%3awg%3aoauth%3a2.0%3aoob&response_type=code&scope=email%20https%3a%2f%2fwww.googleapis.com%2fauth%2fdocs.test%20https%3a%2f%2fwww.googleapis.com%2fauth%2fdrive%20https%3a%2f%2fwww.googleapis.com%2fauth%2fdrive.photos.readonly%20https%3a%2f%2fwww.googleapis.com%2fauth%2fpeopleapi.readonly\n",
            "\n",
            "Enter your authorization code:\n",
            "··········\n",
            "Mounted at /content/drive\n"
          ],
          "name": "stdout"
        }
      ]
    },
    {
      "cell_type": "code",
      "metadata": {
        "id": "ouPCNObUTKBc",
        "colab_type": "code",
        "colab": {}
      },
      "source": [
        "#get pose predictor\n",
        "shape_pred = dlib.shape_predictor('/content/drive/My Drive/Colab Notebooks/face recognition models/shape_predictor_68_face_landmarks.dat')\n",
        "\n",
        "#get the face recognition model\n",
        "face_recognition_model = dlib.face_recognition_model_v1('/content/drive/My Drive/Colab Notebooks/face recognition models/dlib_face_recognition_resnet_model_v1.dat')\n",
        "\n",
        "#tolerance for face comparison\n",
        "TOLERANCE = 0.5"
      ],
      "execution_count": null,
      "outputs": []
    },
    {
      "cell_type": "code",
      "metadata": {
        "id": "P585zZxPXRGx",
        "colab_type": "code",
        "colab": {}
      },
      "source": [
        "#this function will give us face encodings\n",
        "def get_face_encodings(image_path) :\n",
        "  #load image using scipy\n",
        "  image = imageio.imread(image_path)\n",
        "  \n",
        "  #detect using face detector\n",
        "  detected_faces = face_dec(image,1)\n",
        "\n",
        "  #get pose/landmarks of those detected faces\n",
        "  shape_faces = [shape_pred(image, face) for face in detected_faces]\n",
        "\n",
        "  #for every face detected compute the face encoding\n",
        "  return [np.array(face_recognition_model.compute_face_descriptor(image, face_pose, 1)) for face_pose in shape_faces]"
      ],
      "execution_count": null,
      "outputs": []
    },
    {
      "cell_type": "code",
      "metadata": {
        "id": "SKcu2b6caPmv",
        "colab_type": "code",
        "colab": {}
      },
      "source": [
        "#takes a list of known faces for comparison\n",
        "def compare_face_encodings(known_faces, face):\n",
        "  #finds the differences between faces using norm\n",
        "  #returns true/false based on match\n",
        "  #a match occurs when the norm is less than tolerance value\n",
        "  return (np.linalg.norm(known_faces-face, axis=1) <= TOLERANCE)"
      ],
      "execution_count": null,
      "outputs": []
    },
    {
      "cell_type": "code",
      "metadata": {
        "id": "iwH459ymbfDx",
        "colab_type": "code",
        "colab": {}
      },
      "source": [
        "#this func return the name of person whose face matches with the given image or not found\n",
        "def find_match(known_faces, names, face):\n",
        "  #call compare_face_encodings to know if there is a match\n",
        "  matches = compare_face_encodings(known_faces, face)\n",
        "\n",
        "  #return name of matches\n",
        "  count = 0\n",
        "  for match in matches:\n",
        "    if match:\n",
        "      return names[count]\n",
        "    count += 1\n",
        "\n",
        "  return 'Not Found'"
      ],
      "execution_count": null,
      "outputs": []
    },
    {
      "cell_type": "code",
      "metadata": {
        "id": "chGdd_sHc2DV",
        "colab_type": "code",
        "colab": {}
      },
      "source": [
        "#get face encodings for each face in image folder\n",
        "#filtering on .jpg extension\n",
        "image_filenames = filter(lambda x: x.endswith('jpg'), os.listdir('/content/drive/My Drive/Colab Notebooks/face recognition models/images'))\n",
        "#sort in alphabetical order\n",
        "image_filenames = sorted(image_filenames)\n",
        "\n",
        "#get full paths to images\n",
        "paths = ['/content/drive/My Drive/Colab Notebooks/face recognition models/images/' + x for x in image_filenames]\n",
        "\n",
        "#list of face encodings\n",
        "face_encodings = []\n",
        "\n",
        "for path_to_image in paths:\n",
        "  #get face encodings from the image\n",
        "  face_encodings_in_image = get_face_encodings(path_to_image)\n",
        "\n",
        "  #ensure only one face is there\n",
        "  if(len(face_encodings_in_image)) != 1 :\n",
        "    print(\"Please change image: \" + path_to_image + \" - it has \" + str(len(face_encodings_in_image)) + \" faces; it can only have one\")\n",
        "    exit()\n",
        "\n",
        "    #append the encoding to the list of encodings\n",
        "  face_encodings.append(face_encodings_in_image[0])"
      ],
      "execution_count": null,
      "outputs": []
    },
    {
      "cell_type": "code",
      "metadata": {
        "id": "H3TD5dPPnXpG",
        "colab_type": "code",
        "colab": {
          "base_uri": "https://localhost:8080/",
          "height": 134
        },
        "outputId": "b517ffda-93ae-4594-e5d5-e42e9980dd00"
      },
      "source": [
        "#get path to all test images\n",
        "test_filenames = filter(lambda x: x.endswith('jpg'), os.listdir('/content/drive/My Drive/Colab Notebooks/face recognition models/test'))\n",
        "\n",
        "paths_test = ['/content/drive/My Drive/Colab Notebooks/face recognition models/test/' + x for x in test_filenames]\n",
        "\n",
        "#list of names by eliminating .jpg extension\n",
        "names = [x[:-4] for x in image_filenames]\n",
        "\n",
        "#iterate over test_images to find match one by one\n",
        "for paths_to_test in paths_test :\n",
        "  face_encoding_test = get_face_encodings(paths_to_test)\n",
        "\n",
        "  if(len(face_encoding_test)) != 1 :\n",
        "    print(\"Please change image: \" + paths_to_test + \" - it has \" + str(len(face_encoding_test)) + \" faces; it can only have one\")\n",
        "    exit() \n",
        "\n",
        "  #find match\n",
        "  match = find_match(face_encodings, names, face_encoding_test[0])\n",
        "\n",
        "  print(paths_to_test, match)\n",
        "  "
      ],
      "execution_count": null,
      "outputs": [
        {
          "output_type": "stream",
          "text": [
            "/content/drive/My Drive/Colab Notebooks/face recognition models/test/2.jpg manish\n",
            "/content/drive/My Drive/Colab Notebooks/face recognition models/test/1.jpg steve\n",
            "/content/drive/My Drive/Colab Notebooks/face recognition models/test/3.jpg bill\n",
            "/content/drive/My Drive/Colab Notebooks/face recognition models/test/4.jpg elon\n",
            "/content/drive/My Drive/Colab Notebooks/face recognition models/test/6.jpg pichai\n",
            "/content/drive/My Drive/Colab Notebooks/face recognition models/test/5.jpg zuckerberg\n",
            "/content/drive/My Drive/Colab Notebooks/face recognition models/test/7.jpg Not Found\n"
          ],
          "name": "stdout"
        }
      ]
    }
  ]
}